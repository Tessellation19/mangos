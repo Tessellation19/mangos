{
 "cells": [
  {
   "attachments": {},
   "cell_type": "markdown",
   "metadata": {},
   "source": [
    "## Hello Python!\n",
    "What's this?  This is a [Jupyter Notebook](https://jupyter.org/).  Click the kernel button in the top-right here, and select python.  We're going to play python today!\n",
    "Resource: [Automate the Boring Stuff with Python](https://automatetheboringstuff.com/#toc) is a lovely book where you can learn enough Python to do useful things."
   ]
  },
  {
   "attachments": {},
   "cell_type": "markdown",
   "metadata": {},
   "source": [
    "### Java vs Python\n",
    "Here is some Java (from a [Python for Java Developers course](https://blu3r4y.github.io/python-for-java-developers/#/-syntax-primer/0)):\n",
    "```java\n",
    "// ./java/M03_MaximumValue.java#L5-L15\n",
    "\n",
    "List<Integer> numbers = Arrays.asList(1, -10, 0, -5, -1000, 100, 7);\n",
    "\n",
    "int maximum = numbers.get(0);\n",
    "\n",
    "for (int number : numbers) {\n",
    "    if (number > maximum) {\n",
    "        maximum = number;\n",
    "    }\n",
    "}\n",
    "\n",
    "System.out.println(\"The maximum value is \" + maximum);\n",
    "```\n",
    "Let's see the equivalent program in Python:"
   ]
  },
  {
   "cell_type": "code",
   "execution_count": 2,
   "metadata": {},
   "outputs": [
    {
     "name": "stdout",
     "output_type": "stream",
     "text": [
      "The maximum value is 100\n"
     ]
    }
   ],
   "source": [
    "\n",
    "# ./python/m03_maximum_value.py\n",
    "\n",
    "numbers = [1, -10, 0, -5, -1000, 100, 7]\n",
    "\n",
    "maximum = numbers[0]\n",
    "\n",
    "for number in numbers:\n",
    "    if number > maximum:\n",
    "        maximum = number\n",
    "\n",
    "print(\"The maximum value is\", maximum)\n"
   ]
  },
  {
   "cell_type": "code",
   "execution_count": 4,
   "metadata": {},
   "outputs": [
    {
     "name": "stdout",
     "output_type": "stream",
     "text": [
      "hello\n",
      "my name is Tessa\n",
      "and I work in a School\n"
     ]
    },
    {
     "ename": "TypeError",
     "evalue": "'>' not supported between instances of 'str' and 'int'",
     "output_type": "error",
     "traceback": [
      "\u001b[0;31m---------------------------------------------------------------------------\u001b[0m",
      "\u001b[0;31mTypeError\u001b[0m                                 Traceback (most recent call last)",
      "Cell \u001b[0;32mIn[4], line 2\u001b[0m\n\u001b[1;32m      1\u001b[0m \u001b[39m# let's play!\u001b[39;00m\n\u001b[0;32m----> 2\u001b[0m \u001b[39mclass\u001b[39;00m \u001b[39mHello\u001b[39;00m:\n\u001b[1;32m      3\u001b[0m     \u001b[39mprint\u001b[39m(\u001b[39m\"\u001b[39m\u001b[39mhello\u001b[39m\u001b[39m\"\u001b[39m)\n\u001b[1;32m      5\u001b[0m     \u001b[39mdef\u001b[39;00m \u001b[39maddName\u001b[39m(\u001b[39mself\u001b[39m, name):\n",
      "Cell \u001b[0;32mIn[4], line 28\u001b[0m, in \u001b[0;36mHello\u001b[0;34m()\u001b[0m\n\u001b[1;32m     26\u001b[0m     \u001b[39mif\u001b[39;00m(w\u001b[39m.\u001b[39mequals(\u001b[39m\"\u001b[39m\u001b[39mYes\u001b[39m\u001b[39m\"\u001b[39m)):\n\u001b[1;32m     27\u001b[0m         bob\u001b[39m.\u001b[39maddWife(\u001b[39mTrue\u001b[39;00m)\n\u001b[0;32m---> 28\u001b[0m \u001b[39mprint\u001b[39m(tellMe())\n",
      "Cell \u001b[0;32mIn[4], line 25\u001b[0m, in \u001b[0;36mHello.tellMe\u001b[0;34m()\u001b[0m\n\u001b[1;32m     23\u001b[0m bob\u001b[39m.\u001b[39maddName(n)\n\u001b[1;32m     24\u001b[0m bob\u001b[39m.\u001b[39maddJob(j)\n\u001b[0;32m---> 25\u001b[0m bob\u001b[39m.\u001b[39;49maddKids(k)\n\u001b[1;32m     26\u001b[0m \u001b[39mif\u001b[39;00m(w\u001b[39m.\u001b[39mequals(\u001b[39m\"\u001b[39m\u001b[39mYes\u001b[39m\u001b[39m\"\u001b[39m)):\n\u001b[1;32m     27\u001b[0m     bob\u001b[39m.\u001b[39maddWife(\u001b[39mTrue\u001b[39;00m)\n",
      "Cell \u001b[0;32mIn[1], line 14\u001b[0m, in \u001b[0;36mHello.addKids\u001b[0;34m(kids)\u001b[0m\n\u001b[1;32m     13\u001b[0m \u001b[39mdef\u001b[39;00m \u001b[39maddKids\u001b[39m(kids):\n\u001b[0;32m---> 14\u001b[0m     \u001b[39mif\u001b[39;00m kids\u001b[39m>\u001b[39;49m\u001b[39m0\u001b[39;49m:\n\u001b[1;32m     15\u001b[0m         \u001b[39mprint\u001b[39m(\u001b[39m\"\u001b[39m\u001b[39mand \u001b[39m\u001b[39m\"\u001b[39m\u001b[39m+\u001b[39mkids \u001b[39m+\u001b[39m \u001b[39m\"\u001b[39m\u001b[39mkids\u001b[39m\u001b[39m\"\u001b[39m)\n",
      "\u001b[0;31mTypeError\u001b[0m: '>' not supported between instances of 'str' and 'int'"
     ]
    }
   ],
   "source": [
    "# let's play!\n",
    "class Hello:\n",
    "    print(\"hello\")\n",
    "\n",
    "    def addName(self, name):\n",
    "        print(\"my name is \" +name)\n",
    "    def addJob(self, job):\n",
    "        print(\"and I work in a \" +job)\n",
    "    def addWife(self, wife):\n",
    "        if(wife.equal(\"yes\")):\n",
    "            print(\"I have a wife\")\n",
    "        else:\n",
    "            print(\"I am not married\")\n",
    "    def addKids(self, kids):\n",
    "        if kids>0:\n",
    "            print(\"and I have \"+kids + \"kids\")\n",
    "    def tellMe():\n",
    "        n = input(\"What is your name?\")\n",
    "        j = input(\"Where do you work?\")\n",
    "        w = input(\"Do you have a wife?\")\n",
    "        k = input(\"How many kids do you have?\")\n",
    "        bob = Hello\n",
    "        bob.addName(n)\n",
    "        bob.addJob(j)\n",
    "        bob.addKids(k)\n",
    "        if(w.equals(\"Yes\")):\n",
    "            bob.addWife(True)\n",
    "    print(tellMe())\n",
    "        \n",
    "\n",
    "\n",
    "    \n",
    "\n"
   ]
  }
 ],
 "metadata": {
  "kernelspec": {
   "display_name": "Python 3",
   "language": "python",
   "name": "python3"
  },
  "language_info": {
   "codemirror_mode": {
    "name": "ipython",
    "version": 3
   },
   "file_extension": ".py",
   "mimetype": "text/x-python",
   "name": "python",
   "nbconvert_exporter": "python",
   "pygments_lexer": "ipython3",
   "version": "3.9.2"
  },
  "orig_nbformat": 4
 },
 "nbformat": 4,
 "nbformat_minor": 2
}
